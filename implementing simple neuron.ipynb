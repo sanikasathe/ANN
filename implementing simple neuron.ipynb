#implementing simple neuron


input1 = 2
input2 = 3
w1= 0.5
w2= 0.8
b = 0.1

sum= (w1*input1)+(w2*input2)+b
print("weightedsum:",sum)

def step_function(x, threshold=0):
    return 1 if x > threshold else 0

output= step_function(sum)

print("output",output)
