import numpy as np

# Sample Data (XOR)
X = np.array([[0, 0], [0, 1], [1, 0], [1, 1]])
Y = np.array([[0], [1], [1], [0]])

W = np.random.rand(2, 1)
b = np.random.rand(1)
lr = 0.1
epochs = 1000

def sigmoid(x):
    return 1 / (1 + np.exp(-x)) # Indented this line

def sigmoid_derivative(x):
    return x * (1 - x) # Indented this line

def mse_loss(y_true, y_pred):
    return np.mean((y_true - y_pred) ** 2) # Indented this line

def cross_entropy_loss(y_true, y_pred):
    eps = 1e-15
    y_pred = np.clip(y_pred, eps, 1 - eps)
    return -np.mean(y_true * np.log(y_pred) + (1 - y_true) * np.log(1 - y_pred)) # Indented this line

loss_type = 'cross_entropy' # Change to 'mse' to use MSE

for epoch in range(epochs):
    z = np.dot(X, W) + b
    A = sigmoid(z)

    if loss_type == 'mse':
        loss = mse_loss(Y, A)
        d_loss = (Y - A) * sigmoid_derivative(A)
    elif loss_type == 'cross_entropy':
        loss = cross_entropy_loss(Y, A)
        d_loss = (A - Y)

    dW = np.dot(X.T, d_loss)
    db = np.sum(d_loss)

    W -= lr * dW
    b -= lr * db
    
output = sigmoid(np.dot(X, W) + b)
print("\nFinal Predictions:")
print(output.round())
