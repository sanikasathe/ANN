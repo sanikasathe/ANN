#1.house price prediction
import numpy as np

X = np.array([[3, 1500, 0.7], [2, 1200, 0.5], [4, 2000, 0.9], [1, 800, 0.3]])
Y = np.array([[300000], [250000], [450000], [180000]])

X_mean = np.mean(X, axis=0)
X_std = np.std(X, axis=0)
X_normalized = (X - X_mean) / X_std
Y_mean = np.mean(Y)
Y_std = np.std(Y)
Y_normalized = (Y - Y_mean) / Y_std

W = np.random.rand(3, 1) * 0.01
b = np.random.rand(1) * 0.01
lr = 0.005
epochs = 10000

def linear(x):
    return x

def sigmoid(x):
    return 1 / (1 + np.exp(-x))

def mse_loss(y_true, y_pred):
    return np.mean((y_true - y_pred) ** 2)

def cross_entropy_loss(y_true, y_pred):
    eps = 1e-15
    y_pred = np.clip(y_pred, eps, 1 - eps)
    return -np.mean(y_true * np.log(y_pred) + (1 - y_true) * np.log(1 - y_pred))

for epoch in range(epochs):
    z = np.dot(X_normalized, W) + b
    A = linear(z)
    loss_mse = mse_loss(Y_normalized, A)

    A_sigmoid = sigmoid(z)
    Y_class = np.where(Y > np.mean(Y), 1, 0)
    loss_cross_entropy = cross_entropy_loss(Y_class, A_sigmoid)

    d_loss_mse = 2 * (A - Y_normalized)
    dW_mse = np.dot(X_normalized.T, d_loss_mse)
    db_mse = np.sum(d_loss_mse)
    W -= lr * dW_mse
    b -= lr * db_mse

    if epoch % 1000 == 0:
        print(f"Epoch {epoch}, MSE Loss: {loss_mse:.4f}, Cross-Entropy Loss: {loss_cross_entropy:.4f}")

output_normalized = linear(np.dot(X_normalized, W) + b)
output = output_normalized * Y_std + Y_mean
print("\nFinal Predictions:")
print(output)

new_house = np.array([[2, 1000, 0.6]])
new_house_normalized = (new_house - X_mean) / X_std
predicted_price_normalized = linear(np.dot(new_house_normalized, W) + b)
predicted_price = predicted_price_normalized * Y_std + Y_mean
print(f"\nPredicted price for the new house: {predicted_price[0][0]}")
