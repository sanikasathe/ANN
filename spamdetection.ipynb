import numpy as np

Email = "AaaaaBbbbSFddddddd"
count = 0
spam_score = 0

# Count capital letters
for i in Email:
    if i.isupper():
        count += 1

no_of_capital_letters = count

# Length of the email (capped at 40)
length = len(Email) if len(Email) < 40 else 0

# Count spammy words
spam_words = ["buy", "cheap", "discount", "offer", "win"]
email_lower = Email.lower()
for word in spam_words:
    if word in email_lower:
        spam_score += 1

# Feature vector x and target y
x = np.array([no_of_capital_letters, spam_score, length])
y = np.array([0.5, 0.3, 0.7])  # Example target values, must match shape of x

# Initialize weights and bias
w = np.random.rand(3)  # One weight per feature
b = np.random.rand(1)

learning_rate = 0.0001
iterations = 1000

# Gradient descent loop
for i in range(iterations):
    y_predicted = np.dot(w, x) + b
    error = y_predicted - np.mean(y)

    dw = 2 * error * x / len(x)
    db = 2 * error / len(x)

    w = w - learning_rate * dw
    b = b - learning_rate * db

# Output final weights and bias
print("Weights:", w)
print("Bias:", b)
