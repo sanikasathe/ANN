#Email Spam Detection
import numpy as np

X = np.array([[0.5, 0.2, 100], [0.1, 0.6, 500], [0.8, 0.4, 200], [0.3, 0.1, 300]])
X = (X - np.mean(X, axis=0)) / np.std(X, axis=0)
Y = np.array([[0], [1], [0], [1]])

W = np.random.randn(3, 1) * 0.01
b = np.zeros((1, 1))
lr = 0.01
epochs = 1000

def sigmoid(x):
    return 1 / (1 + np.exp(-np.clip(x, -100, 100)))

def sigmoid_derivative(x):
    return x * (1 - x)

def mse_loss(y_true, y_pred):
    return np.mean((y_true - y_pred) ** 2)

def cross_entropy_loss(y_true, y_pred):
    eps = 1e-15
    y_pred = np.clip(y_pred, eps, 1 - eps)
    return -np.mean(y_true * np.log(y_pred) + (1 - y_true) * np.log(1 - y_pred))

for epoch in range(epochs):
    z = np.dot(X, W) + b
    A = sigmoid(z)
    loss_mse = mse_loss(Y, A)
    loss_cross_entropy = cross_entropy_loss(Y, A)

    d_loss_mse = (Y - A) * sigmoid_derivative(A)
    d_loss_cross_entropy = (A - Y)

    dW_mse = np.dot(X.T, d_loss_mse)
    db_mse = np.sum(d_loss_mse, axis=0, keepdims=True)
    dW_cross_entropy = np.dot(X.T, d_loss_cross_entropy)
    db_cross_entropy = np.sum(d_loss_cross_entropy, axis=0, keepdims=True)

    W -= lr * dW_cross_entropy
    b -= lr * db_cross_entropy

    if epoch % 100 == 0:
        print(f"Epoch {epoch}, MSE Loss: {loss_mse:.4f}, Cross-Entropy Loss: {loss_cross_entropy:.4f}")

output = sigmoid(np.dot(X, W) + b)
print("\nFinal Predictions:")
print(output.round())
accuracy = np.mean(output.round() == Y)
print(f"\nAccuracy on training data: {accuracy:.2f}")

new_email = np.array([[0.6, 0.3, 250]])
new_email = (new_email - np.mean(X + np.zeros((1,3)), axis=0)) / np.std(X, axis=0)
predicted_label = np.round(sigmoid(np.dot(new_email, W) + b))
print(f"\nPredicted label for the new email: {predicted_label[0][0]}")
